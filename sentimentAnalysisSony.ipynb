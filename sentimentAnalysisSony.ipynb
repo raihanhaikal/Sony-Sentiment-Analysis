{
  "nbformat": 4,
  "nbformat_minor": 0,
  "metadata": {
    "colab": {
      "name": "data-engineering-ml.ipynb",
      "provenance": []
    },
    "kernelspec": {
      "name": "python3",
      "display_name": "Python 3"
    }
  },
  "cells": [
    {
      "cell_type": "code",
      "metadata": {
        "colab": {
          "base_uri": "https://localhost:8080/",
          "height": 202
        },
        "id": "EBS0sId-HhZT",
        "outputId": "8f770a34-e741-4646-e0d3-d6bfcd21cd72"
      },
      "source": [
        "import pandas as pd \r\n",
        "import numpy as np\r\n",
        "\r\n",
        "sony_df = pd.read_csv(\"/content/dump_twitter.csv\")\r\n",
        "\r\n",
        "sony_df.head()"
      ],
      "execution_count": null,
      "outputs": [
        {
          "output_type": "execute_result",
          "data": {
            "text/html": [
              "<div>\n",
              "<style scoped>\n",
              "    .dataframe tbody tr th:only-of-type {\n",
              "        vertical-align: middle;\n",
              "    }\n",
              "\n",
              "    .dataframe tbody tr th {\n",
              "        vertical-align: top;\n",
              "    }\n",
              "\n",
              "    .dataframe thead th {\n",
              "        text-align: right;\n",
              "    }\n",
              "</style>\n",
              "<table border=\"1\" class=\"dataframe\">\n",
              "  <thead>\n",
              "    <tr style=\"text-align: right;\">\n",
              "      <th></th>\n",
              "      <th>User_ID</th>\n",
              "      <th>Tweet</th>\n",
              "      <th>Timestamp</th>\n",
              "    </tr>\n",
              "  </thead>\n",
              "  <tbody>\n",
              "    <tr>\n",
              "      <th>0</th>\n",
              "      <td>1268425721199940000</td>\n",
              "      <td>RT @SonyMAX: Hindi filmon ke \\\\xe2\\\\x80\\\\x98Ti...</td>\n",
              "      <td>12/27/2020 13:41</td>\n",
              "    </tr>\n",
              "    <tr>\n",
              "      <th>1</th>\n",
              "      <td>1324329224115690000</td>\n",
              "      <td>JUST IN: sony to file a lawsuit against a twit...</td>\n",
              "      <td>12/27/2020 13:41</td>\n",
              "    </tr>\n",
              "    <tr>\n",
              "      <th>2</th>\n",
              "      <td>781134624286134000</td>\n",
              "      <td>RT @SonyMAX: Hindi filmon ke \\\\xe2\\\\x80\\\\x98Ti...</td>\n",
              "      <td>12/27/2020 13:41</td>\n",
              "    </tr>\n",
              "    <tr>\n",
              "      <th>3</th>\n",
              "      <td>742175332871049000</td>\n",
              "      <td>RT @SonyMAX: Hindi filmon ke \\\\xe2\\\\x80\\\\x98Ti...</td>\n",
              "      <td>12/27/2020 13:41</td>\n",
              "    </tr>\n",
              "    <tr>\n",
              "      <th>4</th>\n",
              "      <td>1250670699582110000</td>\n",
              "      <td>@pisslorde Sony got small call it tiny now'</td>\n",
              "      <td>12/27/2020 13:40</td>\n",
              "    </tr>\n",
              "  </tbody>\n",
              "</table>\n",
              "</div>"
            ],
            "text/plain": [
              "               User_ID  ...         Timestamp\n",
              "0  1268425721199940000  ...  12/27/2020 13:41\n",
              "1  1324329224115690000  ...  12/27/2020 13:41\n",
              "2   781134624286134000  ...  12/27/2020 13:41\n",
              "3   742175332871049000  ...  12/27/2020 13:41\n",
              "4  1250670699582110000  ...  12/27/2020 13:40\n",
              "\n",
              "[5 rows x 3 columns]"
            ]
          },
          "metadata": {
            "tags": []
          },
          "execution_count": 43
        }
      ]
    },
    {
      "cell_type": "code",
      "metadata": {
        "colab": {
          "base_uri": "https://localhost:8080/",
          "height": 416
        },
        "id": "simM5dm5JzBz",
        "outputId": "77ff1382-8e3c-455f-fad1-78b6184e0b35"
      },
      "source": [
        "sony_df = sony_df.drop(columns=['User_ID', 'Timestamp'])\r\n",
        "sony_df"
      ],
      "execution_count": null,
      "outputs": [
        {
          "output_type": "execute_result",
          "data": {
            "text/html": [
              "<div>\n",
              "<style scoped>\n",
              "    .dataframe tbody tr th:only-of-type {\n",
              "        vertical-align: middle;\n",
              "    }\n",
              "\n",
              "    .dataframe tbody tr th {\n",
              "        vertical-align: top;\n",
              "    }\n",
              "\n",
              "    .dataframe thead th {\n",
              "        text-align: right;\n",
              "    }\n",
              "</style>\n",
              "<table border=\"1\" class=\"dataframe\">\n",
              "  <thead>\n",
              "    <tr style=\"text-align: right;\">\n",
              "      <th></th>\n",
              "      <th>Tweet</th>\n",
              "    </tr>\n",
              "  </thead>\n",
              "  <tbody>\n",
              "    <tr>\n",
              "      <th>0</th>\n",
              "      <td>RT @SonyMAX: Hindi filmon ke \\\\xe2\\\\x80\\\\x98Ti...</td>\n",
              "    </tr>\n",
              "    <tr>\n",
              "      <th>1</th>\n",
              "      <td>JUST IN: sony to file a lawsuit against a twit...</td>\n",
              "    </tr>\n",
              "    <tr>\n",
              "      <th>2</th>\n",
              "      <td>RT @SonyMAX: Hindi filmon ke \\\\xe2\\\\x80\\\\x98Ti...</td>\n",
              "    </tr>\n",
              "    <tr>\n",
              "      <th>3</th>\n",
              "      <td>RT @SonyMAX: Hindi filmon ke \\\\xe2\\\\x80\\\\x98Ti...</td>\n",
              "    </tr>\n",
              "    <tr>\n",
              "      <th>4</th>\n",
              "      <td>@pisslorde Sony got small call it tiny now'</td>\n",
              "    </tr>\n",
              "    <tr>\n",
              "      <th>...</th>\n",
              "      <td>...</td>\n",
              "    </tr>\n",
              "    <tr>\n",
              "      <th>10153</th>\n",
              "      <td>Oh boy it\\\\xe2\\\\x80\\\\x99s getting real. #Spide...</td>\n",
              "    </tr>\n",
              "    <tr>\n",
              "      <th>10154</th>\n",
              "      <td>Come join our PS5 group chat! \\\\n\\\\xf0\\\\x9f\\\\x...</td>\n",
              "    </tr>\n",
              "    <tr>\n",
              "      <th>10155</th>\n",
              "      <td>RT @SriniMaama16: #PaavaKadhaigal streaming bo...</td>\n",
              "    </tr>\n",
              "    <tr>\n",
              "      <th>10156</th>\n",
              "      <td>RT @UberFacts: Sony is removing Cyberpunk 2077...</td>\n",
              "    </tr>\n",
              "    <tr>\n",
              "      <th>10157</th>\n",
              "      <td>RT @stupotoo: Sony removing Cyberpunk for bein...</td>\n",
              "    </tr>\n",
              "  </tbody>\n",
              "</table>\n",
              "<p>10158 rows × 1 columns</p>\n",
              "</div>"
            ],
            "text/plain": [
              "                                                   Tweet\n",
              "0      RT @SonyMAX: Hindi filmon ke \\\\xe2\\\\x80\\\\x98Ti...\n",
              "1      JUST IN: sony to file a lawsuit against a twit...\n",
              "2      RT @SonyMAX: Hindi filmon ke \\\\xe2\\\\x80\\\\x98Ti...\n",
              "3      RT @SonyMAX: Hindi filmon ke \\\\xe2\\\\x80\\\\x98Ti...\n",
              "4            @pisslorde Sony got small call it tiny now'\n",
              "...                                                  ...\n",
              "10153  Oh boy it\\\\xe2\\\\x80\\\\x99s getting real. #Spide...\n",
              "10154  Come join our PS5 group chat! \\\\n\\\\xf0\\\\x9f\\\\x...\n",
              "10155  RT @SriniMaama16: #PaavaKadhaigal streaming bo...\n",
              "10156  RT @UberFacts: Sony is removing Cyberpunk 2077...\n",
              "10157  RT @stupotoo: Sony removing Cyberpunk for bein...\n",
              "\n",
              "[10158 rows x 1 columns]"
            ]
          },
          "metadata": {
            "tags": []
          },
          "execution_count": 44
        }
      ]
    },
    {
      "cell_type": "code",
      "metadata": {
        "colab": {
          "base_uri": "https://localhost:8080/"
        },
        "id": "3wnywoRTI95n",
        "outputId": "192bb1a6-bd76-4917-a26a-4f8370b1d848"
      },
      "source": [
        "# ------ Case Folding --------\r\n",
        "# gunakan fungsi Series.str.lower() pada Pandas\r\n",
        "sony_df['Tweet'] = sony_df['Tweet'].str.lower()\r\n",
        "\r\n",
        "\r\n",
        "print('Case Folding Result : \\n')\r\n",
        "print(sony_df['Tweet'].head(5))\r\n",
        "print('\\n\\n\\n')"
      ],
      "execution_count": null,
      "outputs": [
        {
          "output_type": "stream",
          "text": [
            "Case Folding Result : \n",
            "\n",
            "0    rt @sonymax: hindi filmon ke \\\\xe2\\\\x80\\\\x98ti...\n",
            "1    just in: sony to file a lawsuit against a twit...\n",
            "2    rt @sonymax: hindi filmon ke \\\\xe2\\\\x80\\\\x98ti...\n",
            "3    rt @sonymax: hindi filmon ke \\\\xe2\\\\x80\\\\x98ti...\n",
            "4          @pisslorde sony got small call it tiny now'\n",
            "Name: Tweet, dtype: object\n",
            "\n",
            "\n",
            "\n",
            "\n"
          ],
          "name": "stdout"
        }
      ]
    },
    {
      "cell_type": "code",
      "metadata": {
        "colab": {
          "base_uri": "https://localhost:8080/"
        },
        "id": "Awcs41PNJAdy",
        "outputId": "e5ffe952-2ca6-4825-86e1-27ac170535a0"
      },
      "source": [
        "import re\r\n",
        "#remove tweet special\r\n",
        "def remove_tweet_special(text):\r\n",
        "    # remove tab, new line, ans back slice\r\n",
        "    text = text.replace('\\\\t',\" \").replace('\\\\n',\" \").replace('\\\\u',\" \").replace('\\\\',\"\")\r\n",
        "    # remove non ASCII (emoticon, chinese word, .etc)\r\n",
        "    text = text.encode('ascii', 'replace').decode('ascii')\r\n",
        "    # remove mention, link, hashtag\r\n",
        "    text = ' '.join(re.sub(\"([@#][A-Za-z0-9]+)|(\\w+:\\/\\/\\S+)\",\" \", text).split())\r\n",
        "    # remove incomplete URL\r\n",
        "    return text.replace(\"http://\", \" \").replace(\"https://\", \" \")\r\n",
        "                \r\n",
        "sony_df['Tweet'] = sony_df['Tweet'].apply(remove_tweet_special)\r\n",
        "print(sony_df['Tweet'].head(5))\r\n",
        "print('\\n\\n\\n')"
      ],
      "execution_count": null,
      "outputs": [
        {
          "output_type": "stream",
          "text": [
            "0    rt : hindi filmon ke xe2x80x98tigerxe2x80x99 k...\n",
            "1    just in: sony to file a lawsuit against a twit...\n",
            "2    rt : hindi filmon ke xe2x80x98tigerxe2x80x99 k...\n",
            "3    rt : hindi filmon ke xe2x80x98tigerxe2x80x99 k...\n",
            "4                     sony got small call it tiny now'\n",
            "Name: Tweet, dtype: object\n",
            "\n",
            "\n",
            "\n",
            "\n"
          ],
          "name": "stdout"
        }
      ]
    },
    {
      "cell_type": "code",
      "metadata": {
        "colab": {
          "base_uri": "https://localhost:8080/"
        },
        "id": "Ks3_M1z9OiVe",
        "outputId": "2bfc63e2-a1f3-43be-fad1-c3579591a311"
      },
      "source": [
        "#remove number\r\n",
        "def remove_number(text):\r\n",
        "    return  re.sub(r\"\\d+\", \"\", text)\r\n",
        "\r\n",
        "sony_df['Tweet'] = sony_df['Tweet'].apply(remove_number)\r\n",
        "print(sony_df['Tweet'].head(5))\r\n",
        "print('\\n\\n\\n')"
      ],
      "execution_count": null,
      "outputs": [
        {
          "output_type": "stream",
          "text": [
            "0    rt : hindi filmon ke xexxtigerxexx ko sony max...\n",
            "1    just in: sony to file a lawsuit against a twit...\n",
            "2    rt : hindi filmon ke xexxtigerxexx ko sony max...\n",
            "3    rt : hindi filmon ke xexxtigerxexx ko sony max...\n",
            "4                     sony got small call it tiny now'\n",
            "Name: Tweet, dtype: object\n",
            "\n",
            "\n",
            "\n",
            "\n"
          ],
          "name": "stdout"
        }
      ]
    },
    {
      "cell_type": "code",
      "metadata": {
        "colab": {
          "base_uri": "https://localhost:8080/"
        },
        "id": "LO67a-tAQ8vO",
        "outputId": "f9870327-f5ed-4a2e-b209-132facb472b7"
      },
      "source": [
        "def remove_whitespace_LT(text):\r\n",
        "    return text.strip()\r\n",
        "\r\n",
        "sony_df['Tweet'] = sony_df['Tweet'].apply(remove_whitespace_LT)\r\n",
        "print(sony_df['Tweet'].head(5))\r\n",
        "print('\\n\\n\\n')"
      ],
      "execution_count": null,
      "outputs": [
        {
          "output_type": "stream",
          "text": [
            "0    rt : hindi filmon ke xexxtigerxexx ko sony max...\n",
            "1    just in: sony to file a lawsuit against a twit...\n",
            "2    rt : hindi filmon ke xexxtigerxexx ko sony max...\n",
            "3    rt : hindi filmon ke xexxtigerxexx ko sony max...\n",
            "4                     sony got small call it tiny now'\n",
            "Name: Tweet, dtype: object\n",
            "\n",
            "\n",
            "\n",
            "\n"
          ],
          "name": "stdout"
        }
      ]
    },
    {
      "cell_type": "code",
      "metadata": {
        "colab": {
          "base_uri": "https://localhost:8080/"
        },
        "id": "SXShZOJlRyvJ",
        "outputId": "253a8cbb-6146-4d3d-a4c5-2bf125c11819"
      },
      "source": [
        "def remove_whitespace_multiple(text):\r\n",
        "    return re.sub('\\s+',' ',text)\r\n",
        "\r\n",
        "sony_df['Tweet'] = sony_df['Tweet'].apply(remove_whitespace_multiple)\r\n",
        "print(sony_df['Tweet'].head(5))\r\n",
        "print('\\n\\n\\n')"
      ],
      "execution_count": null,
      "outputs": [
        {
          "output_type": "stream",
          "text": [
            "0    rt : hindi filmon ke xexxtigerxexx ko sony max...\n",
            "1    just in: sony to file a lawsuit against a twit...\n",
            "2    rt : hindi filmon ke xexxtigerxexx ko sony max...\n",
            "3    rt : hindi filmon ke xexxtigerxexx ko sony max...\n",
            "4                     sony got small call it tiny now'\n",
            "Name: Tweet, dtype: object\n",
            "\n",
            "\n",
            "\n",
            "\n"
          ],
          "name": "stdout"
        }
      ]
    },
    {
      "cell_type": "code",
      "metadata": {
        "colab": {
          "base_uri": "https://localhost:8080/"
        },
        "id": "XbroQTYhR8H0",
        "outputId": "d7d862c6-efb9-41bb-9450-02523a172634"
      },
      "source": [
        "def remove_singl_char(text):\r\n",
        "    return re.sub(r\"\\b[a-zA-Z]\\b\", \"\", text)\r\n",
        "\r\n",
        "sony_df['Tweet'] = sony_df['Tweet'].apply(remove_singl_char)\r\n",
        "print(sony_df['Tweet'].head(5))\r\n",
        "print('\\n\\n\\n')"
      ],
      "execution_count": null,
      "outputs": [
        {
          "output_type": "stream",
          "text": [
            "0    rt : hindi filmon ke xexxtigerxexx ko sony max...\n",
            "1    just in: sony to file  lawsuit against  twitte...\n",
            "2    rt : hindi filmon ke xexxtigerxexx ko sony max...\n",
            "3    rt : hindi filmon ke xexxtigerxexx ko sony max...\n",
            "4                     sony got small call it tiny now'\n",
            "Name: Tweet, dtype: object\n",
            "\n",
            "\n",
            "\n",
            "\n"
          ],
          "name": "stdout"
        }
      ]
    },
    {
      "cell_type": "code",
      "metadata": {
        "colab": {
          "base_uri": "https://localhost:8080/"
        },
        "id": "pAf2MEIrSEzD",
        "outputId": "c46234b2-4762-47f8-91d3-20268d29bc06"
      },
      "source": [
        "import string\r\n",
        "\r\n",
        "def remove_punctuation(text):\r\n",
        "    return text.translate(str.maketrans(\"\",\"\",string.punctuation))\r\n",
        "\r\n",
        "sony_df['Tweet'] = sony_df['Tweet'].apply(remove_punctuation)\r\n",
        "print(sony_df['Tweet'].head(5))\r\n",
        "print('\\n\\n\\n')"
      ],
      "execution_count": null,
      "outputs": [
        {
          "output_type": "stream",
          "text": [
            "0    rt  hindi filmon ke xexxtigerxexx ko sony max ...\n",
            "1    just in sony to file  lawsuit against  twitter...\n",
            "2    rt  hindi filmon ke xexxtigerxexx ko sony max ...\n",
            "3    rt  hindi filmon ke xexxtigerxexx ko sony max ...\n",
            "4                      sony got small call it tiny now\n",
            "Name: Tweet, dtype: object\n",
            "\n",
            "\n",
            "\n",
            "\n"
          ],
          "name": "stdout"
        }
      ]
    },
    {
      "cell_type": "code",
      "metadata": {
        "colab": {
          "base_uri": "https://localhost:8080/"
        },
        "id": "uu7mi3-xVQX9",
        "outputId": "c044fdb6-afb2-435a-d32f-cf6d5a2cedea"
      },
      "source": [
        "!pip install pycountry"
      ],
      "execution_count": null,
      "outputs": [
        {
          "output_type": "stream",
          "text": [
            "Requirement already satisfied: pycountry in /usr/local/lib/python3.6/dist-packages (20.7.3)\n"
          ],
          "name": "stdout"
        }
      ]
    },
    {
      "cell_type": "code",
      "metadata": {
        "colab": {
          "base_uri": "https://localhost:8080/"
        },
        "id": "05nrPt23Vxgd",
        "outputId": "1d89646c-6c3e-4fbc-856c-460de687b107"
      },
      "source": [
        "!pip install langdetect"
      ],
      "execution_count": null,
      "outputs": [
        {
          "output_type": "stream",
          "text": [
            "Requirement already satisfied: langdetect in /usr/local/lib/python3.6/dist-packages (1.0.8)\n",
            "Requirement already satisfied: six in /usr/local/lib/python3.6/dist-packages (from langdetect) (1.15.0)\n"
          ],
          "name": "stdout"
        }
      ]
    },
    {
      "cell_type": "code",
      "metadata": {
        "colab": {
          "base_uri": "https://localhost:8080/"
        },
        "id": "ENbwXjpXMups",
        "outputId": "795f0ef9-c305-4df2-f0a7-28212176e4a9"
      },
      "source": [
        "from textblob import TextBlob\r\n",
        "import sys\r\n",
        "import tweepy\r\n",
        "import matplotlib.pyplot as plt\r\n",
        "import pandas as pd\r\n",
        "import numpy as np\r\n",
        "import os\r\n",
        "import nltk\r\n",
        "import pycountry\r\n",
        "import re\r\n",
        "import string\r\n",
        "from wordcloud import WordCloud, STOPWORDS\r\n",
        "from PIL import Image\r\n",
        "from nltk.sentiment.vader import SentimentIntensityAnalyzer\r\n",
        "from langdetect import detect\r\n",
        "from nltk.stem import SnowballStemmer\r\n",
        "from nltk.sentiment.vader import SentimentIntensityAnalyzer\r\n",
        "from sklearn.feature_extraction.text import CountVectorizer"
      ],
      "execution_count": null,
      "outputs": [
        {
          "output_type": "stream",
          "text": [
            "/usr/local/lib/python3.6/dist-packages/nltk/twitter/__init__.py:20: UserWarning: The twython library has not been installed. Some functionality from the twitter package will not be available.\n",
            "  warnings.warn(\"The twython library has not been installed. \"\n"
          ],
          "name": "stderr"
        }
      ]
    },
    {
      "cell_type": "code",
      "metadata": {
        "colab": {
          "base_uri": "https://localhost:8080/"
        },
        "id": "bMl3HKsXWy0w",
        "outputId": "81ae83dd-6584-499c-a652-250d5b67fe97"
      },
      "source": [
        "import nltk\r\n",
        "nltk.download('vader_lexicon')"
      ],
      "execution_count": null,
      "outputs": [
        {
          "output_type": "stream",
          "text": [
            "[nltk_data] Downloading package vader_lexicon to /root/nltk_data...\n",
            "[nltk_data]   Package vader_lexicon is already up-to-date!\n"
          ],
          "name": "stdout"
        },
        {
          "output_type": "execute_result",
          "data": {
            "text/plain": [
              "True"
            ]
          },
          "metadata": {
            "tags": []
          },
          "execution_count": 55
        }
      ]
    },
    {
      "cell_type": "code",
      "metadata": {
        "colab": {
          "base_uri": "https://localhost:8080/",
          "height": 356
        },
        "id": "Y93yThwvV4Jj",
        "outputId": "605378d0-3142-455d-a69c-0c4177391f8f"
      },
      "source": [
        "sony_df[['polarity', 'subjectivity']] = sony_df['Tweet'].apply(lambda Text: pd.Series(TextBlob(Text).sentiment))\r\n",
        "for index, row in sony_df['Tweet'].iteritems():\r\n",
        "  score = SentimentIntensityAnalyzer().polarity_scores(row)\r\n",
        "  neg = score['neg']\r\n",
        "  neu = score['neu']\r\n",
        "  pos = score['pos']\r\n",
        "  comp = score['compound']\r\n",
        "  if neg > pos:\r\n",
        "    sony_df.loc[index, 'sentiment'] = \"negative\"\r\n",
        "  elif pos > neg:\r\n",
        "    sony_df.loc[index, 'sentiment'] = \"positive\"\r\n",
        "  else:\r\n",
        "    sony_df.loc[index, 'sentiment'] = \"neutral\"\r\n",
        "    sony_df.loc[index, 'neg'] = neg\r\n",
        "    sony_df.loc[index, 'neu'] = neu\r\n",
        "    sony_df.loc[index, 'pos'] = pos\r\n",
        "    sony_df.loc[index, 'compound'] = comp\r\n",
        "\r\n",
        "sony_df.head(10)"
      ],
      "execution_count": null,
      "outputs": [
        {
          "output_type": "execute_result",
          "data": {
            "text/html": [
              "<div>\n",
              "<style scoped>\n",
              "    .dataframe tbody tr th:only-of-type {\n",
              "        vertical-align: middle;\n",
              "    }\n",
              "\n",
              "    .dataframe tbody tr th {\n",
              "        vertical-align: top;\n",
              "    }\n",
              "\n",
              "    .dataframe thead th {\n",
              "        text-align: right;\n",
              "    }\n",
              "</style>\n",
              "<table border=\"1\" class=\"dataframe\">\n",
              "  <thead>\n",
              "    <tr style=\"text-align: right;\">\n",
              "      <th></th>\n",
              "      <th>Tweet</th>\n",
              "      <th>polarity</th>\n",
              "      <th>subjectivity</th>\n",
              "      <th>sentiment</th>\n",
              "      <th>neg</th>\n",
              "      <th>neu</th>\n",
              "      <th>pos</th>\n",
              "      <th>compound</th>\n",
              "    </tr>\n",
              "  </thead>\n",
              "  <tbody>\n",
              "    <tr>\n",
              "      <th>0</th>\n",
              "      <td>rt  hindi filmon ke xexxtigerxexx ko sony max ...</td>\n",
              "      <td>1.000000</td>\n",
              "      <td>1.000000</td>\n",
              "      <td>positive</td>\n",
              "      <td>NaN</td>\n",
              "      <td>NaN</td>\n",
              "      <td>NaN</td>\n",
              "      <td>NaN</td>\n",
              "    </tr>\n",
              "    <tr>\n",
              "      <th>1</th>\n",
              "      <td>just in sony to file  lawsuit against  twitter...</td>\n",
              "      <td>0.345455</td>\n",
              "      <td>0.583333</td>\n",
              "      <td>negative</td>\n",
              "      <td>NaN</td>\n",
              "      <td>NaN</td>\n",
              "      <td>NaN</td>\n",
              "      <td>NaN</td>\n",
              "    </tr>\n",
              "    <tr>\n",
              "      <th>2</th>\n",
              "      <td>rt  hindi filmon ke xexxtigerxexx ko sony max ...</td>\n",
              "      <td>1.000000</td>\n",
              "      <td>1.000000</td>\n",
              "      <td>positive</td>\n",
              "      <td>NaN</td>\n",
              "      <td>NaN</td>\n",
              "      <td>NaN</td>\n",
              "      <td>NaN</td>\n",
              "    </tr>\n",
              "    <tr>\n",
              "      <th>3</th>\n",
              "      <td>rt  hindi filmon ke xexxtigerxexx ko sony max ...</td>\n",
              "      <td>1.000000</td>\n",
              "      <td>1.000000</td>\n",
              "      <td>positive</td>\n",
              "      <td>NaN</td>\n",
              "      <td>NaN</td>\n",
              "      <td>NaN</td>\n",
              "      <td>NaN</td>\n",
              "    </tr>\n",
              "    <tr>\n",
              "      <th>4</th>\n",
              "      <td>sony got small call it tiny now</td>\n",
              "      <td>-0.125000</td>\n",
              "      <td>0.450000</td>\n",
              "      <td>neutral</td>\n",
              "      <td>0.0</td>\n",
              "      <td>1.0</td>\n",
              "      <td>0.0</td>\n",
              "      <td>0.0</td>\n",
              "    </tr>\n",
              "    <tr>\n",
              "      <th>5</th>\n",
              "      <td>rt  hindi filmon ke xexxtigerxexx ko sony max ...</td>\n",
              "      <td>1.000000</td>\n",
              "      <td>1.000000</td>\n",
              "      <td>positive</td>\n",
              "      <td>NaN</td>\n",
              "      <td>NaN</td>\n",
              "      <td>NaN</td>\n",
              "      <td>NaN</td>\n",
              "    </tr>\n",
              "    <tr>\n",
              "      <th>6</th>\n",
              "      <td>soc  think itxexxs out of the control of eithe...</td>\n",
              "      <td>0.200000</td>\n",
              "      <td>0.200000</td>\n",
              "      <td>neutral</td>\n",
              "      <td>0.0</td>\n",
              "      <td>1.0</td>\n",
              "      <td>0.0</td>\n",
              "      <td>0.0</td>\n",
              "    </tr>\n",
              "    <tr>\n",
              "      <th>7</th>\n",
              "      <td>rt  sony confirms it making movies and tv show...</td>\n",
              "      <td>0.000000</td>\n",
              "      <td>0.000000</td>\n",
              "      <td>positive</td>\n",
              "      <td>NaN</td>\n",
              "      <td>NaN</td>\n",
              "      <td>NaN</td>\n",
              "      <td>NaN</td>\n",
              "    </tr>\n",
              "    <tr>\n",
              "      <th>8</th>\n",
              "      <td>ooohh well  sorry to hear that weve used sony...</td>\n",
              "      <td>0.166667</td>\n",
              "      <td>0.666667</td>\n",
              "      <td>positive</td>\n",
              "      <td>NaN</td>\n",
              "      <td>NaN</td>\n",
              "      <td>NaN</td>\n",
              "      <td>NaN</td>\n",
              "    </tr>\n",
              "    <tr>\n",
              "      <th>9</th>\n",
              "      <td>brazilian court reportedly orders sony to unbl...</td>\n",
              "      <td>0.000000</td>\n",
              "      <td>0.000000</td>\n",
              "      <td>negative</td>\n",
              "      <td>NaN</td>\n",
              "      <td>NaN</td>\n",
              "      <td>NaN</td>\n",
              "      <td>NaN</td>\n",
              "    </tr>\n",
              "  </tbody>\n",
              "</table>\n",
              "</div>"
            ],
            "text/plain": [
              "                                               Tweet  polarity  ...  pos compound\n",
              "0  rt  hindi filmon ke xexxtigerxexx ko sony max ...  1.000000  ...  NaN      NaN\n",
              "1  just in sony to file  lawsuit against  twitter...  0.345455  ...  NaN      NaN\n",
              "2  rt  hindi filmon ke xexxtigerxexx ko sony max ...  1.000000  ...  NaN      NaN\n",
              "3  rt  hindi filmon ke xexxtigerxexx ko sony max ...  1.000000  ...  NaN      NaN\n",
              "4                    sony got small call it tiny now -0.125000  ...  0.0      0.0\n",
              "5  rt  hindi filmon ke xexxtigerxexx ko sony max ...  1.000000  ...  NaN      NaN\n",
              "6  soc  think itxexxs out of the control of eithe...  0.200000  ...  0.0      0.0\n",
              "7  rt  sony confirms it making movies and tv show...  0.000000  ...  NaN      NaN\n",
              "8   ooohh well  sorry to hear that weve used sony...  0.166667  ...  NaN      NaN\n",
              "9  brazilian court reportedly orders sony to unbl...  0.000000  ...  NaN      NaN\n",
              "\n",
              "[10 rows x 8 columns]"
            ]
          },
          "metadata": {
            "tags": []
          },
          "execution_count": 57
        }
      ]
    },
    {
      "cell_type": "code",
      "metadata": {
        "id": "mGX8M8y2Yqmc"
      },
      "source": [
        "sony_df_negative = sony_df[sony_df[\"sentiment\"]==\"negative\"]\r\n",
        "sony_df_positive = sony_df[sony_df[\"sentiment\"]==\"positive\"]\r\n",
        "sony_df_neutral = sony_df[sony_df[\"sentiment\"]==\"neutral\"]"
      ],
      "execution_count": null,
      "outputs": []
    },
    {
      "cell_type": "code",
      "metadata": {
        "colab": {
          "base_uri": "https://localhost:8080/",
          "height": 141
        },
        "id": "VZBLWV5GY6U-",
        "outputId": "c64409c2-c3c0-4584-c09f-87bb1545e3bf"
      },
      "source": [
        "def count_values_in_column(data,feature):\r\n",
        "  total=data.loc[:,feature].value_counts(dropna=False)\r\n",
        "  percentage=round(data.loc[:,feature].value_counts(dropna=False,normalize=True)*100,2)\r\n",
        "  return pd.concat([total,percentage],axis=1,keys=['Total','Percentage'])\r\n",
        "#Count_values for sentiment\r\n",
        "count_values_in_column(sony_df,\"sentiment\")"
      ],
      "execution_count": null,
      "outputs": [
        {
          "output_type": "execute_result",
          "data": {
            "text/html": [
              "<div>\n",
              "<style scoped>\n",
              "    .dataframe tbody tr th:only-of-type {\n",
              "        vertical-align: middle;\n",
              "    }\n",
              "\n",
              "    .dataframe tbody tr th {\n",
              "        vertical-align: top;\n",
              "    }\n",
              "\n",
              "    .dataframe thead th {\n",
              "        text-align: right;\n",
              "    }\n",
              "</style>\n",
              "<table border=\"1\" class=\"dataframe\">\n",
              "  <thead>\n",
              "    <tr style=\"text-align: right;\">\n",
              "      <th></th>\n",
              "      <th>Total</th>\n",
              "      <th>Percentage</th>\n",
              "    </tr>\n",
              "  </thead>\n",
              "  <tbody>\n",
              "    <tr>\n",
              "      <th>positive</th>\n",
              "      <td>4771</td>\n",
              "      <td>46.97</td>\n",
              "    </tr>\n",
              "    <tr>\n",
              "      <th>neutral</th>\n",
              "      <td>3127</td>\n",
              "      <td>30.78</td>\n",
              "    </tr>\n",
              "    <tr>\n",
              "      <th>negative</th>\n",
              "      <td>2260</td>\n",
              "      <td>22.25</td>\n",
              "    </tr>\n",
              "  </tbody>\n",
              "</table>\n",
              "</div>"
            ],
            "text/plain": [
              "          Total  Percentage\n",
              "positive   4771       46.97\n",
              "neutral    3127       30.78\n",
              "negative   2260       22.25"
            ]
          },
          "metadata": {
            "tags": []
          },
          "execution_count": 59
        }
      ]
    },
    {
      "cell_type": "code",
      "metadata": {
        "colab": {
          "base_uri": "https://localhost:8080/",
          "height": 248
        },
        "id": "jkedo5H7ZRvj",
        "outputId": "f7abec3c-e12f-4cf9-fd1c-6ee70b7c6013"
      },
      "source": [
        "# create data for Pie Chart\r\n",
        "pc = count_values_in_column(sony_df,\"sentiment\")\r\n",
        "names= pc.index\r\n",
        "size=pc[\"Percentage\"]\r\n",
        " \r\n",
        "# Create a circle for the center of the plot\r\n",
        "my_circle=plt.Circle( (0,0), 0.7, color='white')\r\n",
        "plt.pie(size, labels=names, colors=['green','blue','red'])\r\n",
        "p=plt.gcf()\r\n",
        "p.gca().add_artist(my_circle)\r\n",
        "plt.show()"
      ],
      "execution_count": null,
      "outputs": [
        {
          "output_type": "display_data",
          "data": {
            "image/png": "[encoded data removed]",
            "text/plain": [
              "<Figure size 432x288 with 1 Axes>"
            ]
          },
          "metadata": {
            "tags": []
          }
        }
      ]
    }
  ]
}